{
 "metadata": {
  "language_info": {
   "codemirror_mode": {
    "name": "ipython",
    "version": 3
   },
   "file_extension": ".py",
   "mimetype": "text/x-python",
   "name": "python",
   "nbconvert_exporter": "python",
   "pygments_lexer": "ipython3",
   "version": "3.8.3-final"
  },
  "orig_nbformat": 2,
  "kernelspec": {
   "name": "Python 3.8.3 64-bit",
   "display_name": "Python 3.8.3 64-bit",
   "metadata": {
    "interpreter": {
     "hash": "2db524e06e9f5f4ffedc911c917cb75e12dbc923643829bf417064a77eb14d37"
    }
   }
  }
 },
 "nbformat": 4,
 "nbformat_minor": 2,
 "cells": [
  {
   "source": [
    "# 02: Advanced Functions\n",
    "\n",
    "- Functions as variables\n",
    "- Higher order Functions\n",
    "- Closure\n",
    "- Decorators\n",
    "\n",
    "## Functions as variables\n",
    "\n",
    "Most likely, you have only seen functions as something you declare and call, separate from variables you can modify, set, or operate with. However, in languages like Python, a function can be treated just like any other variable (as an object)."
   ],
   "cell_type": "markdown",
   "metadata": {}
  },
  {
   "source": [
    "# declare an empty class, just to see what a\n",
    "# \"normal\" object will be like\n",
    "class Example(object):\n",
    "    pass\n",
    "\n",
    "# print the object and its type\n",
    "print(Example(), type(Example()))\n",
    "\n",
    "# declare some functions \n",
    "def multiply_by_2(x):\n",
    "    return x*2\n",
    "\n",
    "def divide_by_2(x):\n",
    "    return x/2\n",
    "\n",
    "print(multiply_by_2, type(multiply_by_2))\n",
    "print(divide_by_2, type(divide_by_2))"
   ],
   "cell_type": "code",
   "metadata": {},
   "execution_count": 32,
   "outputs": [
    {
     "output_type": "stream",
     "name": "stdout",
     "text": [
      "<__main__.Example object at 0x00000244325FEBB0> <class '__main__.Example'>\n<function multiply_by_2 at 0x00000244327B8040> <class 'function'>\n<function divide_by_2 at 0x00000244327B80D0> <class 'function'>\n"
     ]
    }
   ]
  },
  {
   "source": [
    "Since a function is just a variable, it can be assigned to just like any other variable. Then, you can call it just like it was a normal function."
   ],
   "cell_type": "markdown",
   "metadata": {}
  },
  {
   "cell_type": "code",
   "execution_count": 33,
   "metadata": {},
   "outputs": [
    {
     "output_type": "stream",
     "name": "stdout",
     "text": [
      "2\n2.0\n"
     ]
    }
   ],
   "source": [
    "fun = multiply_by_2\n",
    "\n",
    "print(fun(1))\n",
    "\n",
    "fun = divide_by_2\n",
    "\n",
    "print(fun(4))"
   ]
  },
  {
   "source": [
    "Variables can be passed into and from functions. If functions are just like any other variable, then they can be passed into and from functions. A function which takes or returns functions is called a higher order function."
   ],
   "cell_type": "markdown",
   "metadata": {}
  },
  {
   "cell_type": "code",
   "execution_count": 34,
   "metadata": {},
   "outputs": [
    {
     "output_type": "stream",
     "name": "stdout",
     "text": [
      "10\n4.0\n20\n"
     ]
    }
   ],
   "source": [
    "def apply_operation(operation, x):\n",
    "    # take a function as a parameter as if it was any\n",
    "    # other parameter, and also call it just like the\n",
    "    # above example\n",
    "    return operation(x)\n",
    "\n",
    "print(apply_operation(multiply_by_2, 5))\n",
    "print(apply_operation(divide_by_2, 8))\n",
    "\n",
    "def get_some_function():\n",
    "    # since we can treat a function as any other variable,\n",
    "    # we can return it like any other value, just like\n",
    "    # saying \"return 5\"\n",
    "    return multiply_by_2\n",
    "\n",
    "print(apply_operation(get_some_function(), 10))\n"
   ]
  },
  {
   "source": [
    "This works with functions that you don't declare too. Any function."
   ],
   "cell_type": "markdown",
   "metadata": {}
  },
  {
   "cell_type": "code",
   "execution_count": 35,
   "metadata": {},
   "outputs": [
    {
     "output_type": "stream",
     "name": "stdout",
     "text": [
      "4.0\n3.0\n"
     ]
    }
   ],
   "source": [
    "import math\n",
    "\n",
    "print(apply_operation(math.sqrt, 16))\n",
    "print(apply_operation(math.log2, 8))"
   ]
  },
  {
   "cell_type": "code",
   "execution_count": 36,
   "metadata": {},
   "outputs": [
    {
     "output_type": "stream",
     "name": "stdout",
     "text": [
      "running fun:\nhi\nhi\nhi\nhi\nhi\n"
     ]
    }
   ],
   "source": [
    "class ExampleTwo(object):\n",
    "    def __init__(self, n):\n",
    "        self.n = n;\n",
    "\n",
    "    def print_hi(self):\n",
    "        for _ in range(self.n):\n",
    "            print(\"hi\")\n",
    "\n",
    "ex = ExampleTwo(5)\n",
    "fun = ex.print_hi\n",
    "\n",
    "print(\"running fun:\")\n",
    "fun()"
   ]
  },
  {
   "source": [
    "It works with methods too, and you can see that the instance variable `n` was still accessible.\n",
    "\n",
    "## Closure\n",
    "\n",
    "Hopefully the idea of functions as any other object variable has stuck. Now we'll see what kind of data is stored in each function object. Take a careful look at this example."
   ],
   "cell_type": "markdown",
   "metadata": {}
  },
  {
   "cell_type": "code",
   "execution_count": 37,
   "metadata": {},
   "outputs": [
    {
     "output_type": "stream",
     "name": "stdout",
     "text": [
      "2.0\n8.0\n"
     ]
    }
   ],
   "source": [
    "def get_distance_fn(x1, y1):\n",
    "    point_1 = (x1, y1)\n",
    "\n",
    "    def inner(x2, y2):\n",
    "        return math.dist(point_1, (x2, y2))\n",
    "\n",
    "    return inner\n",
    "\n",
    "distance_func = get_distance_fn(5, 4)\n",
    "\n",
    "print(distance_func(7, 4))\n",
    "print(distance_func(5, -4))"
   ]
  },
  {
   "source": [
    "We saw how `self` was preserved and we could use `self.n` in a previous example, however this appears pretty different. See what happens when calling `inner`"
   ],
   "cell_type": "markdown",
   "metadata": {}
  },
  {
   "cell_type": "code",
   "execution_count": 38,
   "metadata": {},
   "outputs": [
    {
     "output_type": "stream",
     "name": "stdout",
     "text": [
      "error: name 'inner' is not defined\n"
     ]
    }
   ],
   "source": [
    "try:\n",
    "    inner(5, 5)\n",
    "except NameError as e:\n",
    "    print(\"error:\", e)"
   ]
  },
  {
   "source": [
    "This should make some sort of sense. The declaration of `inner` was indented, which means it is part of the `get_distance_fn` function. If we were to use any other variable you should be able to know that it is clearly not accessible:"
   ],
   "cell_type": "markdown",
   "metadata": {}
  },
  {
   "cell_type": "code",
   "execution_count": 39,
   "metadata": {},
   "outputs": [
    {
     "output_type": "stream",
     "name": "stdout",
     "text": [
      "error: name 'not_accessible_outside' is not defined\n"
     ]
    }
   ],
   "source": [
    "def dummy_fn():\n",
    "    not_accessible_outside = 5\n",
    "\n",
    "try:\n",
    "    print(not_accessible_outside)\n",
    "except NameError as e:\n",
    "    print(\"error:\", e)"
   ]
  },
  {
   "source": [
    "Remember how variable scope works:\n",
    "\n",
    "- Variables declared in an inner block are not accessible in outside blocks\n",
    "- Variables declared in outside blocks are accessible from an inner block\n",
    "\n",
    "The reason why `not_accessible_outside` is not accessible is because it is a local variable declared within the scope of `dummy_fn` and so it is not accessible from the global scope. Likewise, the `inner` function was declared within the scope of `get_distance_fn` and, since functions are just variables, is just a local variable to `get_distance_fn`.\n",
    "\n",
    "However, note the second point. It's the reason why this is possible:"
   ],
   "cell_type": "markdown",
   "metadata": {}
  },
  {
   "cell_type": "code",
   "execution_count": 40,
   "metadata": {},
   "outputs": [
    {
     "output_type": "stream",
     "name": "stdout",
     "text": [
      "10\n"
     ]
    }
   ],
   "source": [
    "global_variable = 5\n",
    "\n",
    "def dummy_fn_2():\n",
    "    print(global_variable*2)\n",
    "\n",
    "dummy_fn_2()"
   ]
  },
  {
   "source": [
    "Since `dummy_fn_2` is declared in the global scope with `global_variable`, the scope of `dummy_fn_2` is inside the global scope, and so `global_variable` is accessible from inside `dummy_fn_2`. However, back to the first example:\n",
    "\n",
    "```python\n",
    "def get_distance_fn(x1, y1):\n",
    "    point_1 = (x1, y1)\n",
    "\n",
    "    def inner(x2, y2):\n",
    "        return math.dist(point_1, (x2, y2))\n",
    "\n",
    "    return inner\n",
    "```\n",
    "\n",
    "If you imagine the inside of `get_distance_fn` was the global scope, and `x1` and `y1` were global variables, `inner` is just a function declared within that scope. Just like how `global_variable` was accessible within `dummy_fn_2`, `x1` and `y1` are accessible from within `inner`. So, it makes perfect sense according to our scope rules that we can access `x1`, `y1`, and `point_1`.\n",
    "\n",
    "The only strange part is that we are returning `inner`, and it is still able to use `point_1` in later function calls, even though the original `point_1` is no longer accessible after we returned from `get_distance_fn`.\n",
    "\n",
    "However, remember that functions are just objects. It turns out that the `inner` function stores in itself the variables that were accessible to it when it was declared. Binding this environment of local variables to the specific function that was created forms a closure."
   ],
   "cell_type": "markdown",
   "metadata": {}
  },
  {
   "cell_type": "code",
   "execution_count": 61,
   "metadata": {},
   "outputs": [
    {
     "output_type": "stream",
     "name": "stdout",
     "text": [
      "(<cell at 0x000002443286FBE0: tuple object at 0x0000024432839D00>,)\n[(5, 4)]\n"
     ]
    }
   ],
   "source": [
    "print(distance_func.__closure__)\n",
    "print(list(x.cell_contents for x in distance_func.__closure__))"
   ]
  },
  {
   "source": [
    "Where are the int values? Well, since `inner` doesn't use them, why would Python bother storing them? Here are a few more examples."
   ],
   "cell_type": "markdown",
   "metadata": {}
  },
  {
   "cell_type": "code",
   "execution_count": 63,
   "metadata": {},
   "outputs": [
    {
     "output_type": "stream",
     "name": "stdout",
     "text": [
      "103\n(<cell at 0x000002443288E8B0: int object at 0x00007FFD0F3016A0>, <cell at 0x0000024432CB3520: int object at 0x00007FFD0F3016C0>, <cell at 0x0000024432CB3F40: int object at 0x00007FFD0F302300>)\n[1, 2, 100]\n"
     ]
    }
   ],
   "source": [
    "def create_quadratic_fn(a, b, c):\n",
    "    def inner(x):\n",
    "        return a*x*x + b*x + c\n",
    "    # this will affect the c in inner, even\n",
    "    # though the assignment happened after\n",
    "    c = 100\n",
    "    return inner\n",
    "\n",
    "fun = create_quadratic_fn(1, 2, 3)\n",
    "print(fun(1))\n",
    "print(fun.__closure__)\n",
    "print(list(x.cell_contents for x in fun.__closure__))"
   ]
  },
  {
   "cell_type": "code",
   "execution_count": 64,
   "metadata": {},
   "outputs": [
    {
     "output_type": "stream",
     "name": "stdout",
     "text": [
      "186\n127\n121\n142\n172\n(<cell at 0x000002443244A250: function object at 0x00000244329A3F70>, <cell at 0x000002443244AF10: int object at 0x00007FFD0F301720>)\n[<function function_to_repeat at 0x00000244329A3F70>, 5]\n"
     ]
    }
   ],
   "source": [
    "import random\n",
    "\n",
    "def function_repeater(fun, n):\n",
    "    def inner():\n",
    "        for _ in range(n):\n",
    "            print(fun())\n",
    "    return inner\n",
    "\n",
    "def function_to_repeat():\n",
    "    return random.randint(100, 200)\n",
    "\n",
    "repeated = function_repeater(function_to_repeat, 5)\n",
    "repeated()\n",
    "print(repeated.__closure__)\n",
    "print(list(x.cell_contents for x in repeated.__closure__))"
   ]
  },
  {
   "source": [
    "This example combines both closure and functions as parameters. To summarize:\n",
    "- Functions can be declared in places other than the global scope\n",
    "- Functions can store and use the variables accessible to them in the declaring scope, even if those variables later become inaccessible otherwise\n",
    "\n",
    "## Anonymous Functions\n",
    "\n",
    "Notice that `function_to_repeat` is declared in the global scope, just to be used as a parameter. If we don't ever want to use `function_to_repeat`, we can use an anonymous function to give a function to `function_repeater` without adding a function to the global scope:"
   ],
   "cell_type": "markdown",
   "metadata": {}
  },
  {
   "cell_type": "code",
   "execution_count": 44,
   "metadata": {},
   "outputs": [
    {
     "output_type": "stream",
     "name": "stdout",
     "text": [
      "191\n101\n185\n137\n173\n"
     ]
    }
   ],
   "source": [
    "repeated = function_repeater(lambda: random.randint(100, 200), 5)\n",
    "repeated()"
   ]
  },
  {
   "source": [
    "The syntax for an anonymous function in Python is to write `lambda`, a parameter list, then a colon, and a single expression which is the return value. Another example:\n",
    "\n",
    "`lambda x, y: x*y`\n",
    "\n",
    "The restriction that you can only use a single expression is just a Python thing. In the future, we'll see JavaScript anonymous functions that are basically just any other function.\n",
    "\n",
    "A very common usage of anonymous functions is when using functions like `map` in Python."
   ],
   "cell_type": "markdown",
   "metadata": {}
  },
  {
   "cell_type": "code",
   "execution_count": 45,
   "metadata": {},
   "outputs": [
    {
     "output_type": "stream",
     "name": "stdout",
     "text": [
      "hello there,\nhows it going,\nok bye now,\n\n"
     ]
    }
   ],
   "source": [
    "strings = [\n",
    "    \"    hELlo thEre \",\n",
    "    \"hoWs it Going \",\n",
    "    \" ok BYE now\",\n",
    "]\n",
    "\n",
    "print(\"\".join(\n",
    "    map(lambda x: x.lower().strip()+\",\\n\", strings)\n",
    "))"
   ]
  },
  {
   "source": [
    "The map function takes an iterable (such as a list) and returns a new iterable with the function given applied to each element.\n",
    "\n",
    "`map(fn, [x1, x2, x3...]) -> [fn(x1), fn(x2), fn(x3)...]`\n",
    "\n",
    "In this case, we're taking a list of strings and making each string lowercase, removing leading and trailing whitespace, and adding `\",\\n\"` to the end of each string.\n",
    "\n",
    "Since this function that performs this specific string operation is not very useful to us other than for this `map` call, we can use an anonymous function to avoid declaring a new function.\n",
    "\n",
    "## `*args` and `**kwargs`\n",
    "\n",
    "If you want detailed information about packing and unpacking, you can [read this too.](https://stackabuse.com/unpacking-in-python-beyond-parallel-assignment/) All you really need to know for this is what `*` and `**` mean in a function definition."
   ],
   "cell_type": "markdown",
   "metadata": {}
  },
  {
   "cell_type": "code",
   "execution_count": 46,
   "metadata": {},
   "outputs": [
    {
     "output_type": "stream",
     "name": "stdout",
     "text": [
      "x: 2\nargs: (1, 2, 3)\n12\n"
     ]
    }
   ],
   "source": [
    "def f(x, *args):\n",
    "    print(\"x:\", x)\n",
    "    print(\"args:\", args)\n",
    "    n = 0\n",
    "    for arg in args:\n",
    "        n += x*arg\n",
    "    return n\n",
    "\n",
    "# 2*1 + 2*2 + 2*3 = 2 + 4 + 6 = 12\n",
    "print(f(2, 1, 2, 3))"
   ]
  },
  {
   "source": [
    "Using `*` allows you to add an arbitrary amount of *positional* arguments. First, all specified positional arguments are captured, then the rest are thrown into a tuple parameter (the name does not have to be `args`, it could be something like `nums`)."
   ],
   "cell_type": "markdown",
   "metadata": {}
  },
  {
   "cell_type": "code",
   "execution_count": 47,
   "metadata": {},
   "outputs": [
    {
     "output_type": "stream",
     "name": "stdout",
     "text": [
      "x: 1 y: 0 kwargs: {}\nx: 4 y: 5 kwargs: {'z': 10}\nx: 5 y: 0 kwargs: {'a': 'hi', 'b': 'bye'}\n"
     ]
    }
   ],
   "source": [
    "def g(x, y=0, **kwargs):\n",
    "    print(\"x:\", x, \"y:\", y, \"kwargs:\", kwargs)\n",
    "\n",
    "g(1)\n",
    "g(4, y=5, z=10)\n",
    "g(5, a=\"hi\", b=\"bye\")"
   ]
  },
  {
   "source": [
    "Using `**` allows you to add an arbitrary amount of *keyword* arguments, putting any keys that aren't already specified into a dict parameter (the name does not have to be `kwargs`).\n",
    "\n",
    "Aside from what is about to be shown, I don't think I've ever used `*` or `**` to capture arguments though.\n",
    "\n",
    "`*` and `**` can also be used when calling functions, in addition to declaring them.\n",
    "\n",
    "## Decorators\n",
    "\n",
    "Suppose you use this code to debug a function."
   ],
   "cell_type": "markdown",
   "metadata": {}
  },
  {
   "cell_type": "code",
   "execution_count": 48,
   "metadata": {},
   "outputs": [
    {
     "output_type": "stream",
     "name": "stdout",
     "text": [
      "foo: 'hello', bar: 'bob', x: 4, y: 6\nreturn: 'hellobob24'\nhellobob24\n"
     ]
    }
   ],
   "source": [
    "def debug_me(foo, bar, x, y):\n",
    "    # do some work\n",
    "    result = foo+bar+str(x*y)\n",
    "\n",
    "    return result\n",
    "\n",
    "def debug_me_2(foo, bar, x, y):\n",
    "    print(f\"foo: {repr(foo)}, bar: {repr(bar)}, x: {repr(x)}, y: {repr(y)}\")\n",
    "    result = foo+bar+str(x*y)\n",
    "    print(\"return:\", repr(result))\n",
    "    return result\n",
    "\n",
    "print(debug_me_2(\"hello\", \"bob\", 4, 6))"
   ]
  },
  {
   "source": [
    "You think that these print statements are a bit cumbersome to type, and having just learned about higher order functions and `*args`, you write this."
   ],
   "cell_type": "markdown",
   "metadata": {}
  },
  {
   "cell_type": "code",
   "execution_count": 49,
   "metadata": {},
   "outputs": [
    {
     "output_type": "stream",
     "name": "stdout",
     "text": [
      "calling 'debug_me' with args ('hello', 'bob', 4, 6) and kwargs {}\n'debug_me' returned with 'hellobob24'\nhellobob24\n"
     ]
    }
   ],
   "source": [
    "def debugger(fun, *args, **kwargs):\n",
    "    print(f\"calling '{fun.__name__}' with args {args} and kwargs {kwargs}\")\n",
    "    result = fun(*args, **kwargs)\n",
    "    print(f\"'{fun.__name__}' returned with {repr(result)}\")\n",
    "    return result\n",
    "\n",
    "# use the original debug_me function with no changes\n",
    "print(debugger(debug_me, \"hello\", \"bob\", 4, 6))"
   ]
  },
  {
   "source": [
    "Unfortuantely this solution just transforms the problem into a different (and probably a worse) problem. Instead of adding a long print statement at the start and end of the original function, you now have to change every single time you call `debug_me` to use the `debugger` syntax, and then you'd have to change every call back after you were done, instead of just deleting the print statements like in `debug_me_2`.\n",
    "\n",
    "However, this `debugger` function works on any function now. Since it uses `*args, **kwargs` at the end, it captures all possible arguments that you could want to give to `fun`, then unpacks `args` and `kwargs` when the actual call to `fun` is made. You could have a function that is declared to take 1 positional argument, and it would work. Or, you could have a function with 10 positional arguments and 5 keyword arguments, and it would work. Just imagine this as a big pipe of arguments: you take in `*args, **kwargs` in the definition and call the function with `*args, **kwargs`. As far as both sides know, they're just passing and receiving arguments as usual, but you're free to inspect the arguments in between.\n",
    "\n",
    "Fortunately, there is another solution that involves another fact that arises because of the fact that functions are variables, and there are no constant variables in Python."
   ],
   "cell_type": "markdown",
   "metadata": {}
  },
  {
   "cell_type": "code",
   "execution_count": 50,
   "metadata": {},
   "outputs": [
    {
     "output_type": "stream",
     "name": "stdout",
     "text": [
      "2\n4\n8\n"
     ]
    }
   ],
   "source": [
    "def not_a_cool_function(x):\n",
    "    return x\n",
    "\n",
    "def cooler_function(x):\n",
    "    return x*x\n",
    "\n",
    "print(not_a_cool_function(2))\n",
    "\n",
    "not_a_cool_function = cooler_function\n",
    "print(not_a_cool_function(2))\n",
    "\n",
    "cooler_function = lambda x: x*x*x\n",
    "print(cooler_function(2))"
   ]
  },
  {
   "source": [
    "Of course this isn't something you should use often (especially after the rest of this lesson), but we can apply this reassignment of functions to our debugger by writing a higher order function which returns a new function that wraps a given function in print statements."
   ],
   "cell_type": "markdown",
   "metadata": {}
  },
  {
   "cell_type": "code",
   "execution_count": 51,
   "metadata": {},
   "outputs": [
    {
     "output_type": "stream",
     "name": "stdout",
     "text": [
      "without debugger:\nhellobob24\nhijoe7\nwith debugger:\ncalling 'debug_me' with args ('hello', 'bob', 4, 6) and kwargs {}\n'debug_me' returned with 'hellobob24'\nhellobob24\ncalling 'debug_me' with args ('hi', 'joe', 1, 7) and kwargs {}\n'debug_me' returned with 'hijoe7'\nhijoe7\n"
     ]
    }
   ],
   "source": [
    "def get_debugger(fun):\n",
    "    # fun is stored in the closure of debugged.\n",
    "    # remember that the inner code is not run until it is\n",
    "    # actually called, since it is just a function declaration\n",
    "    def debugged(*args, **kwargs):\n",
    "        print(f\"calling '{fun.__name__}' with args {args} and kwargs {kwargs}\")\n",
    "        result = fun(*args, **kwargs)\n",
    "        print(f\"'{fun.__name__}' returned with {repr(result)}\")\n",
    "        return result\n",
    "\n",
    "    return debugged\n",
    "\n",
    "print(\"without debugger:\")\n",
    "print(debug_me(\"hello\", \"bob\", 4, 6))\n",
    "print(debug_me(\"hi\", \"joe\", 1, 7))\n",
    "\n",
    "print(\"with debugger:\")\n",
    "debug_me = get_debugger(debug_me)\n",
    "print(debug_me(\"hello\", \"bob\", 4, 6))\n",
    "print(debug_me(\"hi\", \"joe\", 1, 7))"
   ]
  },
  {
   "source": [
    "Now we can easily debug any function."
   ],
   "cell_type": "markdown",
   "metadata": {}
  },
  {
   "cell_type": "code",
   "execution_count": 52,
   "metadata": {},
   "outputs": [
    {
     "output_type": "stream",
     "name": "stdout",
     "text": [
      "without debugger:\n43\n46\nwith debugger:\ncalling 'absurd_amount_of_arguments' with args (1, 2, 3, 4, 5, 6, 7, 8) and kwargs {}\n'absurd_amount_of_arguments' returned with 43\n43\ncalling 'absurd_amount_of_arguments' with args (1, 2, 3, 4, 5, 6, 7, 8, 9) and kwargs {'j': 1}\n'absurd_amount_of_arguments' returned with 46\n46\n"
     ]
    }
   ],
   "source": [
    "def absurd_amount_of_arguments(a, b, c, d, e, f, g, h=1, i=2, j=5):\n",
    "    return a+b+c+d+e+f+g+h+i+j\n",
    "\n",
    "print(\"without debugger:\")\n",
    "print(absurd_amount_of_arguments(1, 2, 3, 4, 5, 6, 7, 8))\n",
    "print(absurd_amount_of_arguments(1, 2, 3, 4, 5, 6, 7, 8, 9, j=1))\n",
    "\n",
    "print(\"with debugger:\")\n",
    "absurd_amount_of_arguments = get_debugger(absurd_amount_of_arguments)\n",
    "print(absurd_amount_of_arguments(1, 2, 3, 4, 5, 6, 7, 8))\n",
    "print(absurd_amount_of_arguments(1, 2, 3, 4, 5, 6, 7, 8, 9, j=1))\n"
   ]
  },
  {
   "source": [
    "Now, watch this:"
   ],
   "cell_type": "markdown",
   "metadata": {}
  },
  {
   "cell_type": "code",
   "execution_count": 53,
   "metadata": {},
   "outputs": [
    {
     "output_type": "stream",
     "name": "stdout",
     "text": [
      "calling 'less_arguments_this_time' with args (1, 2, 3) and kwargs {}\n'less_arguments_this_time' returned with 3\n3\ncalling 'less_arguments_this_time' with args (1, 2, 3, True) and kwargs {}\n'less_arguments_this_time' returned with 6\n6\ncalling 'less_arguments_this_time' with args (2, 4, 1) and kwargs {'h': True}\n'less_arguments_this_time' returned with 7\n7\n"
     ]
    }
   ],
   "source": [
    "@get_debugger\n",
    "def less_arguments_this_time(a, b, c, h=False):\n",
    "    if h:\n",
    "        return a+b+c\n",
    "    return a+b\n",
    "\n",
    "print(less_arguments_this_time(1, 2, 3))\n",
    "print(less_arguments_this_time(1, 2, 3, True))\n",
    "print(less_arguments_this_time(2, 4, 1, h=True))"
   ]
  },
  {
   "source": [
    "It turns out, the action of going `debug_me = get_debugger(debug_me)` is useful enough that Python has special syntax to do exactly that: `@`.\n",
    "\n",
    "By placing `@something` in the line before a function definition `def f(x):`, you are essentially replacing `f` with `something(f)`. In this case, writing `@get_debugger` was equivalent to writing `less_arguments_this_time = get_debugger(less_arguments_this_time)`.\n",
    "\n",
    "![Diagram of the process for decorating a function](img/simple-decorator.png)\n",
    "\n",
    "But, this can get more complicated. What if we want to provide arguments to the decorating function? Perhaps it wouldn't be very useful for this example, but for other decorators it could be helpful. The content after `@` must be a function that takes just one argument, the function to be wrapped. So, all we need to do is *call a function which returns a decorating function*."
   ],
   "cell_type": "markdown",
   "metadata": {}
  },
  {
   "cell_type": "code",
   "execution_count": 56,
   "metadata": {},
   "outputs": [
    {
     "output_type": "stream",
     "name": "stdout",
     "text": [
      "[64, 40, 60, 18, 64]\n[95, 53, 37, 40, 51]\n[10, 87, 40, 62, 17]\n[3, 78, 40, 81, 49]\n"
     ]
    }
   ],
   "source": [
    "def add_some_random_results(fun):\n",
    "    def wrapper(*args, **kwargs):\n",
    "        result = [fun(*args, **kwargs)]\n",
    "        for _ in range(4):\n",
    "            result.append(random.randint(0, 100))\n",
    "        random.shuffle(result)\n",
    "        return result\n",
    "    return wrapper\n",
    "\n",
    "# weve_seen_this_before = add_some_random_results(weve_seen_this_before)\n",
    "@add_some_random_results\n",
    "def weve_seen_this_before(x, y):\n",
    "    return x*y\n",
    "\n",
    "print(weve_seen_this_before(5, 8))\n",
    "print(weve_seen_this_before(2, 20))\n",
    "\n",
    "def add_random_results(count, lower, upper):\n",
    "    def decorator(fun):\n",
    "        def wrapper(*args, **kwargs):\n",
    "            result = [fun(*args, **kwargs)]\n",
    "            for _ in range(count):\n",
    "                result.append(random.randint(lower, upper))\n",
    "            random.shuffle(result)\n",
    "            return result\n",
    "        return wrapper\n",
    "    return decorator\n",
    "\n",
    "@add_random_results(4, 0, 100)\n",
    "def thats_alot_of_functions(x, y):\n",
    "    return x*y\n",
    "\n",
    "print(thats_alot_of_functions(5, 8))\n",
    "print(thats_alot_of_functions(2, 20))"
   ]
  },
  {
   "source": [
    "If you have a solid grasp of creating and returning functions, this should make sense. Something to note: the inside of the `decorator` function is not evaluated when creating the decorator with `@add_random_results(4, 0, 100)`, because the argument for `fun` is not known. All that happens is the function `decorator` is created and bound to a closure containing the arguments `count`, `lower`, and `upper`, which is then used to decorate `thats_alot_of_functions` like a normal decorator function.\n",
    "\n",
    "![Diagram overview of decorating with arguments](img/decorator-with-args-setup.png)\n",
    "\n",
    "![Diagram of the process for decorating a function with decorator arguments](img/decorator-with-args-following.png)\n",
    "\n",
    "When are decorators evaluated? The decorator is created once and the wrapper is created once. Then of course the wrapper function is evaluated each time the function is called."
   ],
   "cell_type": "markdown",
   "metadata": {}
  },
  {
   "cell_type": "code",
   "execution_count": 58,
   "metadata": {},
   "outputs": [
    {
     "output_type": "stream",
     "name": "stdout",
     "text": [
      "creating decorator with 'wow!'...\nwrapping function 'print_hi'...\nrunning wrapper...\nwow!\nrunning original...\nhi!\nhi!\nhi!\nrunning wrapper...\nwow!\nrunning original...\nhi!\nhi!\n"
     ]
    }
   ],
   "source": [
    "def print_something(message):\n",
    "    print(f\"creating decorator with {repr(message)}...\")\n",
    "    def decorator(fun):\n",
    "        print(f\"wrapping function {repr(fun.__name__)}...\")\n",
    "        def wrapped(*args, **kwargs):\n",
    "            print(f\"running wrapper...\")\n",
    "            print(message)\n",
    "            return fun(*args, **kwargs)\n",
    "        return wrapped\n",
    "    return decorator\n",
    "\n",
    "@print_something(\"wow!\")\n",
    "def print_hi(n):\n",
    "    print(\"running original...\")\n",
    "    for _ in range(n):\n",
    "        print(\"hi!\")\n",
    "\n",
    "print_hi(3)\n",
    "print_hi(2)"
   ]
  },
  {
   "cell_type": "code",
   "execution_count": 65,
   "metadata": {},
   "outputs": [
    {
     "output_type": "stream",
     "name": "stdout",
     "text": [
      "creating 'decorator_b' with 'wow from b!'...\ncreating 'decorator_a' with 'wow from a!'...\ncreating 'decorator_c' with 'wow from c!'...\nwrapping function 'print_bye'...\nwrapping function 'wrapper_c'...\nwrapping function 'wrapper_a'...\nrunning 'wrapper_b'...\nwow from b!\nrunning 'wrapper_a'...\nwow from a!\nrunning 'wrapper_c'...\nwow from c!\nrunning original...\nbye!\nbye!\nbye!\nrunning 'wrapper_b'...\nwow from b!\nrunning 'wrapper_a'...\nwow from a!\nrunning 'wrapper_c'...\nwow from c!\nrunning original...\nbye!\nbye!\n"
     ]
    }
   ],
   "source": [
    "def decorate_a(message):\n",
    "    print(f\"creating 'decorator_a' with {repr(message)}...\")\n",
    "    def decorator_a(fun):\n",
    "        print(f\"wrapping function {repr(fun.__name__)}...\")\n",
    "        def wrapper_a(*args, **kwargs):\n",
    "            print(f\"running 'wrapper_a'...\")\n",
    "            print(message)\n",
    "            return fun(*args, **kwargs)\n",
    "        return wrapper_a\n",
    "    return decorator_a\n",
    "def decorate_b(message):\n",
    "    print(f\"creating 'decorator_b' with {repr(message)}...\")\n",
    "    def decorator_b(fun):\n",
    "        print(f\"wrapping function {repr(fun.__name__)}...\")\n",
    "        def wrapper_b(*args, **kwargs):\n",
    "            print(f\"running 'wrapper_b'...\")\n",
    "            print(message)\n",
    "            return fun(*args, **kwargs)\n",
    "        return wrapper_b\n",
    "    return decorator_b\n",
    "def decorate_c(message):\n",
    "    print(f\"creating 'decorator_c' with {repr(message)}...\")\n",
    "    def decorator_c(fun):\n",
    "        print(f\"wrapping function {repr(fun.__name__)}...\")\n",
    "        def wrapper_c(*args, **kwargs):\n",
    "            print(f\"running 'wrapper_c'...\")\n",
    "            print(message)\n",
    "            return fun(*args, **kwargs)\n",
    "        return wrapper_c\n",
    "    return decorator_c\n",
    "\n",
    "@decorate_b(\"wow from b!\")\n",
    "@decorate_a(\"wow from a!\")\n",
    "@decorate_c(\"wow from c!\")\n",
    "def print_bye(n):\n",
    "    print(\"running original...\")\n",
    "    for _ in range(n):\n",
    "        print(\"bye!\")\n",
    "\n",
    "print_bye(3)\n",
    "print_bye(2)"
   ]
  },
  {
   "source": [
    "## Exercises\n",
    "\n",
    "1\\. Random function return buffer\n",
    "\n",
    "Create a decorator `def randomly_buffer(return_chance)`, which can be used to decorate a function like so:\n",
    "\n",
    "```python\n",
    "@randomly_buffer(0.6)\n",
    "def fun(x, y):\n",
    "    return x*y\n",
    "```\n",
    "\n",
    "The decoration should maintain a list of values. Each time `fun` is called, the return value is added to the list. There will then be a `return_chance`% chance that `fun` returns with a list of all the stored values, otherwise `None` is returned. For example:\n",
    "\n",
    "```python\n",
    "print(fun(1, 5))  # None\n",
    "print(fun(5, 4))  # None\n",
    "print(fun(2, 3))  # None\n",
    "print(fun(9, 4))  # [5, 20, 6, 36]\n",
    "print(fun(4, 8))  # None\n",
    "print(fun(2, 9))  # [32, 18]\n",
    "```\n",
    "\n",
    "2\\. Type conversion decorator\n",
    "\n",
    "Create a decorator `def convert_types(*args)`, which can be used to decorate function like so:\n",
    "\n",
    "```python\n",
    "@convert_types(int, int, float, bool)\n",
    "def fun(x, y, z, flag):\n",
    "    if flag:\n",
    "        return pow(x+y, int(z), 1000)\n",
    "    return (x+y)**z\n",
    "```\n",
    "\n",
    "The decoration should use the provided function e.g. `int`, `float`, to convert each argument, which would allow a call such as `fun(\"1\", 5.8, \"5.9\", 1)` to succeed. Optionally add support for `**kwargs`\n",
    "\n",
    "```python\n",
    "@convert_types(int, int, float, flag=bool)\n",
    "def fun(x, y, z, *, flag=False):\n",
    "    if flag:\n",
    "        return pow(x+y, z, 1000)\n",
    "    else:\n",
    "        return (x+y)**z\n",
    "```\n",
    "\n",
    "3\\. Function cache\n",
    "\n",
    "Create a decorator `cache` which caches function arguments.\n",
    "\n",
    "```python\n",
    "@cache\n",
    "def fun(x, y):\n",
    "    time.sleep(x)\n",
    "    return x*y\n",
    "```\n",
    "\n",
    "The decorator only needs to work for functions which only take positional arguments. Optionally make it work for functions with keyword arguments too. If the function is called, the args that were used and the return value that was produced is stored in the decorator. When the function is called with arguments that have been seen, the stored return value is returned instead of evaluating the original function."
   ],
   "cell_type": "markdown",
   "metadata": {}
  }
 ]
}